{
 "cells": [
  {
   "cell_type": "markdown",
   "metadata": {},
   "source": [
    "### Hello Qiskit\n",
    "\n",
    "This notebook is a simple introduction to Qiskit, the quantum programming language.\n",
    "\n",
    "I begin by experimenting with the Qasm simulator to test basic quantum entanglement to show that probabilistic computing is different from classical computing.  This is the \"Hello World!\" of Qiskit applications."
   ]
  },
  {
   "cell_type": "code",
   "execution_count": 28,
   "metadata": {},
   "outputs": [],
   "source": [
    "# Import the qiskit package\n",
    "import qiskit as qs\n",
    "import matplotlib\n",
    "\n",
    "# Setting to make sure that visuals show up in the notebook while I'm working\n",
    "%matplotlib inline"
   ]
  },
  {
   "cell_type": "code",
   "execution_count": 29,
   "metadata": {},
   "outputs": [
    {
     "data": {
      "text/plain": [
       "{'qiskit-terra': '0.15.1',\n",
       " 'qiskit-aer': '0.6.1',\n",
       " 'qiskit-ignis': '0.4.0',\n",
       " 'qiskit-ibmq-provider': '0.8.0',\n",
       " 'qiskit-aqua': '0.7.5',\n",
       " 'qiskit': '0.20.0'}"
      ]
     },
     "execution_count": 29,
     "metadata": {},
     "output_type": "execute_result"
    }
   ],
   "source": [
    "# Check the version of the package and modules for reproducibility\n",
    "qs.__qiskit_version__"
   ]
  },
  {
   "cell_type": "code",
   "execution_count": 30,
   "metadata": {},
   "outputs": [],
   "source": [
    "# Create a 2 qubit quantum register\n",
    "# Keep in mind that quantum registers here are stored as a 2^n dimensional vector\n",
    "quant_reg = qs.QuantumRegister(2)"
   ]
  },
  {
   "cell_type": "code",
   "execution_count": 31,
   "metadata": {},
   "outputs": [],
   "source": [
    "# Create a 2 bit classical register\n",
    "# Measurements are taken from this register after decoherence\n",
    "class_reg = qs.ClassicalRegister(2)"
   ]
  },
  {
   "cell_type": "code",
   "execution_count": 32,
   "metadata": {},
   "outputs": [],
   "source": [
    "# Create a quantum circuit from the above registers\n",
    "# I prefer making the registers explicitly at first, as opposed to QuantumCircuit(3,3)\n",
    "quant_circuit = qs.QuantumCircuit(quant_reg, class_reg)"
   ]
  },
  {
   "cell_type": "code",
   "execution_count": 33,
   "metadata": {},
   "outputs": [
    {
     "data": {
      "text/html": [
       "<pre style=\"word-wrap: normal;white-space: pre;background: #fff0;line-height: 1.1;font-family: &quot;Courier New&quot;,Courier,monospace\">      \n",
       "q8_0: \n",
       "      \n",
       "q8_1: \n",
       "      \n",
       "c1: 2/\n",
       "      </pre>"
      ],
      "text/plain": [
       "      \n",
       "q8_0: \n",
       "      \n",
       "q8_1: \n",
       "      \n",
       "c1: 2/\n",
       "      "
      ]
     },
     "execution_count": 33,
     "metadata": {},
     "output_type": "execute_result"
    }
   ],
   "source": [
    "# Have a look at the quantum circuit with basic visuals to show each register\n",
    "quant_circuit.draw()"
   ]
  },
  {
   "cell_type": "markdown",
   "metadata": {},
   "source": [
    "## Adding Gates\n",
    "\n",
    "- First adding just a Hadamard gate\n",
    "- Then adding a CX gate to the circuit"
   ]
  },
  {
   "cell_type": "code",
   "execution_count": 35,
   "metadata": {},
   "outputs": [
    {
     "data": {
      "text/plain": [
       "<qiskit.circuit.instructionset.InstructionSet at 0x1626cfecd00>"
      ]
     },
     "execution_count": 35,
     "metadata": {},
     "output_type": "execute_result"
    }
   ],
   "source": [
    "quant_circuit.cx(quant_reg[0], quant_reg[1])"
   ]
  },
  {
   "cell_type": "code",
   "execution_count": 36,
   "metadata": {},
   "outputs": [
    {
     "data": {
      "image/png": "[encoded data removed]",
      "text/plain": [
       "<Figure size 213.958x204.68 with 1 Axes>"
      ]
     },
     "execution_count": 36,
     "metadata": {},
     "output_type": "execute_result"
    }
   ],
   "source": [
    "quant_circuit.draw(output = 'mpl')"
   ]
  },
  {
   "cell_type": "code",
   "execution_count": 37,
   "metadata": {},
   "outputs": [
    {
     "data": {
      "text/plain": [
       "<qiskit.circuit.instructionset.InstructionSet at 0x1626d0a8430>"
      ]
     },
     "execution_count": 37,
     "metadata": {},
     "output_type": "execute_result"
    }
   ],
   "source": [
    "quant_circuit.measure(quant_reg, class_reg)"
   ]
  },
  {
   "cell_type": "code",
   "execution_count": 38,
   "metadata": {},
   "outputs": [
    {
     "data": {
      "image/png": "[encoded data removed]",
      "text/plain": [
       "<Figure size 334.358x204.68 with 1 Axes>"
      ]
     },
     "execution_count": 38,
     "metadata": {},
     "output_type": "execute_result"
    }
   ],
   "source": [
    "quant_circuit.draw(output = 'mpl')"
   ]
  },
  {
   "cell_type": "code",
   "execution_count": 39,
   "metadata": {},
   "outputs": [
    {
     "data": {
      "text/plain": [
       "{'00': 1024}"
      ]
     },
     "execution_count": 39,
     "metadata": {},
     "output_type": "execute_result"
    }
   ],
   "source": [
    "qasm_sim = qs.Aer.get_backend('qasm_simulator')\n",
    "\n",
    "quant_circuit_results = qs.execute(quant_circuit, backend = qasm_sim).result()\n",
    "\n",
    "quant_circuit_results.get_counts()"
   ]
  },
  {
   "cell_type": "code",
   "execution_count": 40,
   "metadata": {},
   "outputs": [
    {
     "data": {
      "text/plain": [
       "<qiskit.circuit.instructionset.InstructionSet at 0x1626d0cf940>"
      ]
     },
     "execution_count": 40,
     "metadata": {},
     "output_type": "execute_result"
    }
   ],
   "source": [
    "# Remake the quantum circuit\n",
    "quant_circuit = qs.QuantumCircuit(quant_reg, class_reg)\n",
    "\n",
    "# Add Hadamard gate to circuit\n",
    "quant_circuit.h(quant_reg[0])"
   ]
  },
  {
   "cell_type": "markdown",
   "metadata": {},
   "source": [
    "The Hadamard gate creates a superposition on the qubit register and will create a probability of that register representing 0 or 1 at 50% in an ideal case (a simulator here).\n",
    "\n",
    "In a real quantum system, these probabilities will vary due to errors caused by interference"
   ]
  },
  {
   "cell_type": "code",
   "execution_count": 41,
   "metadata": {},
   "outputs": [
    {
     "data": {
      "text/html": [
       "<pre style=\"word-wrap: normal;white-space: pre;background: #fff0;line-height: 1.1;font-family: &quot;Courier New&quot;,Courier,monospace\">      ┌───┐\n",
       "q8_0: ┤ H ├\n",
       "      └───┘\n",
       "q8_1: ─────\n",
       "           \n",
       "c1: 2/═════\n",
       "           </pre>"
      ],
      "text/plain": [
       "      ┌───┐\n",
       "q8_0: ┤ H ├\n",
       "      └───┘\n",
       "q8_1: ─────\n",
       "           \n",
       "c1: 2/═════\n",
       "           "
      ]
     },
     "execution_count": 41,
     "metadata": {},
     "output_type": "execute_result"
    }
   ],
   "source": [
    "# Redraw the citcuit to see the new gate\n",
    "quant_circuit.draw()"
   ]
  },
  {
   "cell_type": "code",
   "execution_count": 42,
   "metadata": {},
   "outputs": [
    {
     "data": {
      "image/png": "[encoded data removed]",
      "text/plain": [
       "<Figure size 213.958x204.68 with 1 Axes>"
      ]
     },
     "execution_count": 42,
     "metadata": {},
     "output_type": "execute_result"
    }
   ],
   "source": [
    "# Draw the circuit with some better visuals\n",
    "quant_circuit.draw(output = 'mpl')"
   ]
  },
  {
   "cell_type": "code",
   "execution_count": 43,
   "metadata": {},
   "outputs": [
    {
     "data": {
      "image/png": "[encoded data removed]",
      "text/plain": [
       "<Figure size 274.158x204.68 with 1 Axes>"
      ]
     },
     "execution_count": 43,
     "metadata": {},
     "output_type": "execute_result"
    }
   ],
   "source": [
    "# Add a barrier to the circuit so the graph looks a little neater\n",
    "quant_circuit.barrier(range(2))\n",
    "# Draw the circuit\n",
    "quant_circuit.draw(output = 'mpl')"
   ]
  },
  {
   "cell_type": "code",
   "execution_count": 44,
   "metadata": {},
   "outputs": [
    {
     "data": {
      "image/png": "[encoded data removed]",
      "text/plain": [
       "<Figure size 394.558x204.68 with 1 Axes>"
      ]
     },
     "execution_count": 44,
     "metadata": {},
     "output_type": "execute_result"
    }
   ],
   "source": [
    "# Add measurements to both quantum registers\n",
    "quant_circuit.measure(quant_reg, class_reg)\n",
    "# Draw the circuit\n",
    "quant_circuit.draw(output = 'mpl')"
   ]
  },
  {
   "cell_type": "code",
   "execution_count": 45,
   "metadata": {},
   "outputs": [
    {
     "data": {
      "text/plain": [
       "{'00': 496, '01': 528}"
      ]
     },
     "execution_count": 45,
     "metadata": {},
     "output_type": "execute_result"
    }
   ],
   "source": [
    "# Instantiate the Qasm simulator backend\n",
    "qasm_sim = qs.Aer.get_backend('qasm_simulator')\n",
    "\n",
    "# Run the circuit on the simulator and store the results\n",
    "quant_circuit_results = qs.execute(quant_circuit, backend = qasm_sim).result()\n",
    "\n",
    "# View the results which are stored in the classical bits and their frequency\n",
    "quant_circuit_results.get_counts()"
   ]
  },
  {
   "cell_type": "markdown",
   "metadata": {},
   "source": [
    "#### Adding the CX Gate"
   ]
  },
  {
   "cell_type": "code",
   "execution_count": 46,
   "metadata": {},
   "outputs": [
    {
     "data": {
      "text/plain": [
       "<qiskit.circuit.instructionset.InstructionSet at 0x1626d1b84f0>"
      ]
     },
     "execution_count": 46,
     "metadata": {},
     "output_type": "execute_result"
    }
   ],
   "source": [
    "# Remake the quantum circuit\n",
    "# Qiskit supports circuit addition, but something strange happens when I do it\n",
    "quant_circuit = qs.QuantumCircuit(quant_reg, class_reg)\n",
    "quant_circuit.h(quant_reg[0])\n",
    "\n",
    "# Add a controlled x gate to the other quantum register to create entanglement between the two quantum registers\n",
    "# This is a controlled-Not gate \n",
    "quant_circuit.cx(quant_reg[0], quant_reg[1])"
   ]
  },
  {
   "cell_type": "markdown",
   "metadata": {},
   "source": [
    "Adding a controlled-Not gate (also called the Pauli gate) to the second quantum register here.  It operates as the quantum version of a reversible exclusive OR (XOR) logic gate."
   ]
  },
  {
   "cell_type": "code",
   "execution_count": 47,
   "metadata": {},
   "outputs": [
    {
     "data": {
      "image/png": "[encoded data removed]",
      "text/plain": [
       "<Figure size 274.158x204.68 with 1 Axes>"
      ]
     },
     "execution_count": 47,
     "metadata": {},
     "output_type": "execute_result"
    }
   ],
   "source": [
    "# Draw the circuit with some better visuals\n",
    "quant_circuit.draw(output = 'mpl')"
   ]
  },
  {
   "cell_type": "code",
   "execution_count": 48,
   "metadata": {},
   "outputs": [],
   "source": [
    "# Plot BLoch Spheres for both of the quantum registers in the circuit\n",
    "#from qiskit import BasicAer\n",
    "#from qiskit.quantum_info import Statevector\n",
    "#from qiskit.visualization import plot_bloch_multivector\n",
    "\n",
    "#state_backend = BasicAer.get_backend('statevector_simulator')\n",
    "#result = qs.execute(test, state_backend).result()\n",
    "#state_results  = result.get_statevector(test)\n",
    "\n",
    "#plot_bloch_multivector(state_results, title=\"New Bloch Multivector\")"
   ]
  },
  {
   "cell_type": "markdown",
   "metadata": {},
   "source": [
    "There seems to be some issues with the Bloch multivector plot.  It never shows the vector in the plot.  Even in the docs the arrow doesn't appear.  In the official Qiskit textbook, the code they have doesn't even work it throws an error:\n",
    "\n",
    "https://qiskit.org/textbook/ch-states/single-qubit-gates.html\n",
    "\n",
    "https://qiskit.org/documentation/stubs/qiskit.visualization.plot_bloch_multivector.html"
   ]
  },
  {
   "cell_type": "code",
   "execution_count": 49,
   "metadata": {},
   "outputs": [
    {
     "data": {
      "text/plain": [
       "<qiskit.circuit.instructionset.InstructionSet at 0x1626d2b5d30>"
      ]
     },
     "execution_count": 49,
     "metadata": {},
     "output_type": "execute_result"
    }
   ],
   "source": [
    "# Add measures to each of the quantum registers and point them to the classical registers respectively\n",
    "quant_circuit.measure(quant_reg, class_reg)"
   ]
  },
  {
   "cell_type": "code",
   "execution_count": 50,
   "metadata": {},
   "outputs": [
    {
     "data": {
      "image/png": "[encoded data removed]",
      "text/plain": [
       "<Figure size 394.558x204.68 with 1 Axes>"
      ]
     },
     "execution_count": 50,
     "metadata": {},
     "output_type": "execute_result"
    }
   ],
   "source": [
    "# Draw the circuit with the option for matplotlib\n",
    "quant_circuit.draw(output = 'mpl')"
   ]
  },
  {
   "cell_type": "markdown",
   "metadata": {},
   "source": [
    "Measurements are added to the classical registers.  The quantum registers have to decohere to be measured, and that information is placed into the classical registers.  I don't think the simulation supports going back to the quantum registers after decoherence."
   ]
  },
  {
   "cell_type": "code",
   "execution_count": 51,
   "metadata": {},
   "outputs": [],
   "source": [
    "# Instantiate the simulator to run the circuit\n",
    "# Qasm is quantum assembly language\n",
    "qasm_sim = qs.Aer.get_backend('qasm_simulator')\n",
    "\n",
    "# Execute the circuit using the qasm simulator above\n",
    "# Store the results\n",
    "quant_circuit_results = qs.execute(quant_circuit, backend = qasm_sim).result()\n",
    "\n",
    "# Check the counts from the simulation of the circuit\n",
    "quant_circuit_results.get_counts()"
   ]
  },
  {
   "cell_type": "code",
   "execution_count": 54,
   "metadata": {},
   "outputs": [
    {
     "data": {
      "image/png": "[encoded data removed]",
      "text/plain": [
       "<Figure size 504x360 with 1 Axes>"
      ]
     },
     "execution_count": 54,
     "metadata": {},
     "output_type": "execute_result"
    }
   ],
   "source": [
    "# Import the plot_histogram function so the results of the circuit can be seen\n",
    "from qiskit.tools.visualization import plot_histogram\n",
    "\n",
    "# Check the results of the simulation using the plot_histogram function\n",
    "plot_histogram(quant_circuit_results.get_counts())"
   ]
  },
  {
   "cell_type": "markdown",
   "metadata": {},
   "source": [
    "Keep in mind that this is a limited number of shots (hence the small amount of error between the two - not 50/50)\n",
    "\n",
    "On a real device, which can be really noisy, the numbers will be different and there will be all values in between.  So, the results will include: [00, 01, 10, 11]"
   ]
  }
 ],
 "metadata": {
  "kernelspec": {
   "display_name": "Python 3",
   "language": "python",
   "name": "python3"
  },
  "language_info": {
   "codemirror_mode": {
    "name": "ipython",
    "version": 3
   },
   "file_extension": ".py",
   "mimetype": "text/x-python",
   "name": "python",
   "nbconvert_exporter": "python",
   "pygments_lexer": "ipython3",
   "version": "3.8.5"
  }
 },
 "nbformat": 4,
 "nbformat_minor": 4
}
