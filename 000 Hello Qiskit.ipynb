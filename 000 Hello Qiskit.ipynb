{
 "cells": [
  {
   "cell_type": "markdown",
   "metadata": {},
   "source": [
    "### Hello Qiskit\n",
    "\n",
    "This notebook is a simple introduction to Qiskit, the quantum programming language."
   ]
  },
  {
   "cell_type": "code",
   "execution_count": 1,
   "metadata": {},
   "outputs": [],
   "source": [
    "# Import the qiskit package\n",
    "import qiskit as qs\n",
    "import matplotlib\n",
    "\n",
    "# Setting to make sure that visuals show up in the notebook while I'm working\n",
    "%matplotlib inline"
   ]
  },
  {
   "cell_type": "code",
   "execution_count": 2,
   "metadata": {},
   "outputs": [
    {
     "data": {
      "text/plain": [
       "{'qiskit-terra': '0.15.1',\n",
       " 'qiskit-aer': '0.6.1',\n",
       " 'qiskit-ignis': '0.4.0',\n",
       " 'qiskit-ibmq-provider': '0.8.0',\n",
       " 'qiskit-aqua': '0.7.5',\n",
       " 'qiskit': '0.20.0'}"
      ]
     },
     "execution_count": 2,
     "metadata": {},
     "output_type": "execute_result"
    }
   ],
   "source": [
    "# Check the version of the package and modules for reproducibility\n",
    "qs.__qiskit_version__"
   ]
  },
  {
   "cell_type": "code",
   "execution_count": 3,
   "metadata": {},
   "outputs": [],
   "source": [
    "# Create a 2 qubit quantum register\n",
    "# Keep in mind that quantum registers here are stored as a 2^n dimensional vector\n",
    "quant_reg = qs.QuantumRegister(2)"
   ]
  },
  {
   "cell_type": "code",
   "execution_count": 4,
   "metadata": {},
   "outputs": [],
   "source": [
    "# Create a 2 bit classical register\n",
    "# Measurements are taken from this register after decoherence\n",
    "class_reg = qs.ClassicalRegister(2)"
   ]
  },
  {
   "cell_type": "code",
   "execution_count": 5,
   "metadata": {},
   "outputs": [],
   "source": [
    "# Create a quantum circuit from the above registers\n",
    "# I prefer making the registers explicitly at first, as opposed to QuantumCircuit(3,3)\n",
    "quant_circuit = qs.QuantumCircuit(quant_reg, class_reg)"
   ]
  },
  {
   "cell_type": "code",
   "execution_count": 6,
   "metadata": {},
   "outputs": [
    {
     "data": {
      "text/html": [
       "<pre style=\"word-wrap: normal;white-space: pre;background: #fff0;line-height: 1.1;font-family: &quot;Courier New&quot;,Courier,monospace\">      \n",
       "q0_0: \n",
       "      \n",
       "q0_1: \n",
       "      \n",
       "c0: 2/\n",
       "      </pre>"
      ],
      "text/plain": [
       "      \n",
       "q0_0: \n",
       "      \n",
       "q0_1: \n",
       "      \n",
       "c0: 2/\n",
       "      "
      ]
     },
     "execution_count": 6,
     "metadata": {},
     "output_type": "execute_result"
    }
   ],
   "source": [
    "# Have a look at the quantum circuit with basic visuals to show each register\n",
    "quant_circuit.draw()"
   ]
  },
  {
   "cell_type": "code",
   "execution_count": 7,
   "metadata": {},
   "outputs": [],
   "source": [
    "# Create two copies of the same circuit to show the different gates in combinations\n",
    "#h_quant_circuit = quant_circuit\n",
    "#combo_quant_circuit = quant_circuit"
   ]
  },
  {
   "cell_type": "markdown",
   "metadata": {},
   "source": [
    "## Adding Gates\n",
    "\n",
    "- First adding just a Hadamard gate\n",
    "- Then adding a CX gate to the circuit"
   ]
  },
  {
   "cell_type": "code",
   "execution_count": 8,
   "metadata": {},
   "outputs": [
    {
     "data": {
      "text/plain": [
       "<qiskit.circuit.instructionset.InstructionSet at 0x1622e9f5100>"
      ]
     },
     "execution_count": 8,
     "metadata": {},
     "output_type": "execute_result"
    }
   ],
   "source": [
    "quant_circuit.cx(quant_reg[0], quant_reg[1])"
   ]
  },
  {
   "cell_type": "code",
   "execution_count": 9,
   "metadata": {},
   "outputs": [
    {
     "data": {
      "image/png": "[encoded data removed]",
      "text/plain": [
       "<Figure size 213.813x204.68 with 1 Axes>"
      ]
     },
     "execution_count": 9,
     "metadata": {},
     "output_type": "execute_result"
    }
   ],
   "source": [
    "quant_circuit.draw(output = 'mpl')"
   ]
  },
  {
   "cell_type": "code",
   "execution_count": 10,
   "metadata": {},
   "outputs": [
    {
     "data": {
      "text/plain": [
       "<qiskit.circuit.instructionset.InstructionSet at 0x1626ca38be0>"
      ]
     },
     "execution_count": 10,
     "metadata": {},
     "output_type": "execute_result"
    }
   ],
   "source": [
    "quant_circuit.measure(quant_reg, class_reg)"
   ]
  },
  {
   "cell_type": "code",
   "execution_count": 11,
   "metadata": {},
   "outputs": [
    {
     "data": {
      "image/png": "[encoded data removed]",
      "text/plain": [
       "<Figure size 334.213x204.68 with 1 Axes>"
      ]
     },
     "execution_count": 11,
     "metadata": {},
     "output_type": "execute_result"
    }
   ],
   "source": [
    "quant_circuit.draw(output = 'mpl')"
   ]
  },
  {
   "cell_type": "code",
   "execution_count": 12,
   "metadata": {},
   "outputs": [
    {
     "data": {
      "text/plain": [
       "{'00': 1024}"
      ]
     },
     "execution_count": 12,
     "metadata": {},
     "output_type": "execute_result"
    }
   ],
   "source": [
    "qasm_sim = qs.Aer.get_backend('qasm_simulator')\n",
    "\n",
    "quant_circuit_results = qs.execute(quant_circuit, backend = qasm_sim).result()\n",
    "\n",
    "quant_circuit_results.get_counts()"
   ]
  },
  {
   "cell_type": "code",
   "execution_count": 13,
   "metadata": {},
   "outputs": [
    {
     "data": {
      "text/plain": [
       "<qiskit.circuit.instructionset.InstructionSet at 0x1626c9c1550>"
      ]
     },
     "execution_count": 13,
     "metadata": {},
     "output_type": "execute_result"
    }
   ],
   "source": [
    "# Remake the quantum circuit\n",
    "quant_circuit = qs.QuantumCircuit(quant_reg, class_reg)\n",
    "\n",
    "# Add Hadamard gate to circuit\n",
    "quant_circuit.h(quant_reg[0])"
   ]
  },
  {
   "cell_type": "markdown",
   "metadata": {},
   "source": [
    "The Hadamard gate creates a superposition on the qubit register and will create a probability of that register representing 0 or 1 at 50% in an ideal case (a simulator here).\n",
    "\n",
    "In a real quantum system, these probabilities will vary due to errors caused by interference"
   ]
  },
  {
   "cell_type": "code",
   "execution_count": 14,
   "metadata": {},
   "outputs": [
    {
     "data": {
      "text/html": [
       "<pre style=\"word-wrap: normal;white-space: pre;background: #fff0;line-height: 1.1;font-family: &quot;Courier New&quot;,Courier,monospace\">      ┌───┐\n",
       "q0_0: ┤ H ├\n",
       "      └───┘\n",
       "q0_1: ─────\n",
       "           \n",
       "c0: 2/═════\n",
       "           </pre>"
      ],
      "text/plain": [
       "      ┌───┐\n",
       "q0_0: ┤ H ├\n",
       "      └───┘\n",
       "q0_1: ─────\n",
       "           \n",
       "c0: 2/═════\n",
       "           "
      ]
     },
     "execution_count": 14,
     "metadata": {},
     "output_type": "execute_result"
    }
   ],
   "source": [
    "# Redraw the citcuit to see the new gate\n",
    "quant_circuit.draw()"
   ]
  },
  {
   "cell_type": "code",
   "execution_count": 15,
   "metadata": {},
   "outputs": [
    {
     "data": {
      "image/png": "[encoded data removed]",
      "text/plain": [
       "<Figure size 213.813x204.68 with 1 Axes>"
      ]
     },
     "execution_count": 15,
     "metadata": {},
     "output_type": "execute_result"
    }
   ],
   "source": [
    "# Draw the circuit with some better visuals\n",
    "quant_circuit.draw(output = 'mpl')"
   ]
  },
  {
   "cell_type": "code",
   "execution_count": 16,
   "metadata": {},
   "outputs": [
    {
     "data": {
      "text/plain": [
       "<qiskit.circuit.instructionset.InstructionSet at 0x1626cde54f0>"
      ]
     },
     "execution_count": 16,
     "metadata": {},
     "output_type": "execute_result"
    }
   ],
   "source": [
    "quant_circuit.measure(quant_reg, class_reg)"
   ]
  },
  {
   "cell_type": "code",
   "execution_count": 17,
   "metadata": {},
   "outputs": [
    {
     "data": {
      "image/png": "[encoded data removed]",
      "text/plain": [
       "<Figure size 274.013x204.68 with 1 Axes>"
      ]
     },
     "execution_count": 17,
     "metadata": {},
     "output_type": "execute_result"
    }
   ],
   "source": [
    "quant_circuit.draw(output = 'mpl')"
   ]
  },
  {
   "cell_type": "code",
   "execution_count": 18,
   "metadata": {},
   "outputs": [
    {
     "data": {
      "text/plain": [
       "{'00': 511, '01': 513}"
      ]
     },
     "execution_count": 18,
     "metadata": {},
     "output_type": "execute_result"
    }
   ],
   "source": [
    "qasm_sim = qs.Aer.get_backend('qasm_simulator')\n",
    "\n",
    "quant_circuit_results = qs.execute(quant_circuit, backend = qasm_sim).result()\n",
    "\n",
    "quant_circuit_results.get_counts()"
   ]
  },
  {
   "cell_type": "markdown",
   "metadata": {},
   "source": [
    "#### Adding the CX Gate"
   ]
  },
  {
   "cell_type": "code",
   "execution_count": 19,
   "metadata": {},
   "outputs": [
    {
     "data": {
      "text/plain": [
       "<qiskit.circuit.instructionset.InstructionSet at 0x1626ceb6a00>"
      ]
     },
     "execution_count": 19,
     "metadata": {},
     "output_type": "execute_result"
    }
   ],
   "source": [
    "# Remake the quantum circuit\n",
    "quant_circuit = qs.QuantumCircuit(quant_reg, class_reg)\n",
    "quant_circuit.h(quant_reg[0])\n",
    "\n",
    "# Add a controlled x gate to the other quantum register to create entanglement between the two quantum registers\n",
    "# This is a controlled-Not gate \n",
    "quant_circuit.cx(quant_reg[0], quant_reg[1])"
   ]
  },
  {
   "cell_type": "markdown",
   "metadata": {},
   "source": [
    "Adding a controlled-Not gate (also called the Pauli gate) to the second quantum register here.  It operates as the quantum version of a reversible exclusive OR (XOR) logic gate."
   ]
  },
  {
   "cell_type": "code",
   "execution_count": 20,
   "metadata": {},
   "outputs": [
    {
     "data": {
      "image/png": "[encoded data removed]",
      "text/plain": [
       "<Figure size 274.013x204.68 with 1 Axes>"
      ]
     },
     "execution_count": 20,
     "metadata": {},
     "output_type": "execute_result"
    }
   ],
   "source": [
    "# Draw the circuit with some better visuals\n",
    "quant_circuit.draw(output = 'mpl')"
   ]
  },
  {
   "cell_type": "code",
   "execution_count": 21,
   "metadata": {},
   "outputs": [],
   "source": [
    "# Plot BLoch Spheres for both of the quantum registers in the circuit\n",
    "#from qiskit import BasicAer\n",
    "#from qiskit.quantum_info import Statevector\n",
    "#from qiskit.visualization import plot_bloch_multivector\n",
    "\n",
    "#state_backend = BasicAer.get_backend('statevector_simulator')\n",
    "#result = qs.execute(test, state_backend).result()\n",
    "#state_results  = result.get_statevector(test)\n",
    "\n",
    "#plot_bloch_multivector(state_results, title=\"New Bloch Multivector\")"
   ]
  },
  {
   "cell_type": "markdown",
   "metadata": {},
   "source": [
    "There seems to be some issues with the Bloch multivector plot.  It never shows the vector in the plot.  Even in the docs the arrow doesn't appear.  In the official Qiskit textbook, the code they have doesn't even work it throws an error:\n",
    "\n",
    "https://qiskit.org/textbook/ch-states/single-qubit-gates.html\n",
    "\n",
    "https://qiskit.org/documentation/stubs/qiskit.visualization.plot_bloch_multivector.html"
   ]
  },
  {
   "cell_type": "code",
   "execution_count": 22,
   "metadata": {},
   "outputs": [
    {
     "data": {
      "text/plain": [
       "<qiskit.circuit.instructionset.InstructionSet at 0x1626cf4c3d0>"
      ]
     },
     "execution_count": 22,
     "metadata": {},
     "output_type": "execute_result"
    }
   ],
   "source": [
    "# Add measures to each of the quantum registers and point them to the classical registers respectively\n",
    "quant_circuit.measure(quant_reg, class_reg)"
   ]
  },
  {
   "cell_type": "code",
   "execution_count": 23,
   "metadata": {},
   "outputs": [
    {
     "data": {
      "image/png": "[encoded data removed]",
      "text/plain": [
       "<Figure size 394.413x204.68 with 1 Axes>"
      ]
     },
     "execution_count": 23,
     "metadata": {},
     "output_type": "execute_result"
    }
   ],
   "source": [
    "# Draw the circuit with the option for matplotlib\n",
    "quant_circuit.draw(output = 'mpl')"
   ]
  },
  {
   "cell_type": "markdown",
   "metadata": {},
   "source": [
    "Measurements are added to the classical registers.  The quantum registers have to decohere to be measured, and that information is placed into the classical registers.  I don't think the simulation supports going back to the quantum registers after decoherence."
   ]
  },
  {
   "cell_type": "code",
   "execution_count": 24,
   "metadata": {},
   "outputs": [],
   "source": [
    "# Instantiate the simulator to run the circuit\n",
    "# Qasm is quantum assembly language\n",
    "qasm_sim = qs.Aer.get_backend('qasm_simulator')"
   ]
  },
  {
   "cell_type": "code",
   "execution_count": 25,
   "metadata": {},
   "outputs": [],
   "source": [
    "# Execute the circuit using the qasm simulator above\n",
    "# Store the results\n",
    "quant_circuit_results = qs.execute(quant_circuit, backend = qasm_sim).result()"
   ]
  },
  {
   "cell_type": "code",
   "execution_count": 26,
   "metadata": {},
   "outputs": [
    {
     "data": {
      "text/plain": [
       "{'00': 508, '11': 516}"
      ]
     },
     "execution_count": 26,
     "metadata": {},
     "output_type": "execute_result"
    }
   ],
   "source": [
    "# Check the counts from the simulation of the circuit\n",
    "quant_circuit_results.get_counts()"
   ]
  },
  {
   "cell_type": "code",
   "execution_count": 27,
   "metadata": {},
   "outputs": [
    {
     "data": {
      "image/png": "[encoded data removed]",
      "text/plain": [
       "<Figure size 504x360 with 1 Axes>"
      ]
     },
     "execution_count": 27,
     "metadata": {},
     "output_type": "execute_result"
    }
   ],
   "source": [
    "# Import the plot_histogram function so the results of the circuit can be seen\n",
    "from qiskit.tools.visualization import plot_histogram\n",
    "\n",
    "# Check the results of the simulation using the plot_histogram function\n",
    "plot_histogram(quant_circuit_results.get_counts())"
   ]
  },
  {
   "cell_type": "markdown",
   "metadata": {},
   "source": [
    "Keep in mind that this is a limited number of shots (hence the small amount of error between the two - not 50/50)\n",
    "\n",
    "On a real device, which can be really noisy, the numbers will be different and there will be all values in between.  So, the results will include: [00, 01, 10, 11]"
   ]
  },
  {
   "cell_type": "code",
   "execution_count": null,
   "metadata": {},
   "outputs": [],
   "source": []
  }
 ],
 "metadata": {
  "kernelspec": {
   "display_name": "Python 3",
   "language": "python",
   "name": "python3"
  },
  "language_info": {
   "codemirror_mode": {
    "name": "ipython",
    "version": 3
   },
   "file_extension": ".py",
   "mimetype": "text/x-python",
   "name": "python",
   "nbconvert_exporter": "python",
   "pygments_lexer": "ipython3",
   "version": "3.8.5"
  }
 },
 "nbformat": 4,
 "nbformat_minor": 4
}
