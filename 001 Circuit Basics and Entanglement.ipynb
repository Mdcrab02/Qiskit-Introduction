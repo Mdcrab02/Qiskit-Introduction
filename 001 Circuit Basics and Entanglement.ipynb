{
 "cells": [
  {
   "cell_type": "markdown",
   "metadata": {},
   "source": [
    "## Circuit Basics and Entanglement Practice\n",
    "\n",
    "This notebook is to take a closer look at some of the linear algebra happening under the hood of the gates and see, mathematically, how entanglement is created and simulated."
   ]
  },
  {
   "cell_type": "code",
   "execution_count": 1,
   "metadata": {},
   "outputs": [],
   "source": [
    "# Import the needed packages and modules\n",
    "import qiskit as qs\n",
    "from math import pi\n",
    "\n",
    "from qiskit import Aer\n",
    "\n",
    "from qiskit.tools.visualization import plot_histogram\n",
    "from qiskit.visualization import plot_state_city\n",
    "from qiskit.quantum_info import DensityMatrix\n",
    "\n",
    "# Setting to make sure that visuals show up in the notebook while I'm working\n",
    "%matplotlib inline"
   ]
  },
  {
   "cell_type": "code",
   "execution_count": 2,
   "metadata": {},
   "outputs": [
    {
     "data": {
      "text/plain": [
       "{'qiskit-terra': '0.15.1',\n",
       " 'qiskit-aer': '0.6.1',\n",
       " 'qiskit-ignis': '0.4.0',\n",
       " 'qiskit-ibmq-provider': '0.8.0',\n",
       " 'qiskit-aqua': '0.7.5',\n",
       " 'qiskit': '0.20.0'}"
      ]
     },
     "execution_count": 2,
     "metadata": {},
     "output_type": "execute_result"
    }
   ],
   "source": [
    "# Print the Qiskit verison for reproducibility\n",
    "qs.__qiskit_version__"
   ]
  },
  {
   "cell_type": "markdown",
   "metadata": {},
   "source": [
    "### Creating a single gate quantum circuit to see what the math is behind each gate\n",
    "\n",
    "Look at the unitary matrix and then quantum state of the individual gates.  This is to see a sort of \"before and after\" on both the unitary and quantum states.  This is something like a regression test for the gates and their combinations."
   ]
  },
  {
   "cell_type": "markdown",
   "metadata": {},
   "source": [
    "#### The X Gate\n",
    "\n",
    "Starting by adding an x gate to a simple quantum circuit with `.x()`"
   ]
  },
  {
   "cell_type": "code",
   "execution_count": 3,
   "metadata": {},
   "outputs": [
    {
     "data": {
      "image/png": "[encoded data removed]",
      "text/plain": [
       "<Figure size 200.687x144.48 with 1 Axes>"
      ]
     },
     "execution_count": 3,
     "metadata": {},
     "output_type": "execute_result"
    }
   ],
   "source": [
    "# Create a quantum circuit the old fashioned way.  Make the regesters and pass them into QuantumCircuit()\n",
    "quant_reg = qs.QuantumRegister(1)\n",
    "class_reg = qs.ClassicalRegister(1)\n",
    "\n",
    "# Create the circuit\n",
    "quant_circuit = qs.QuantumCircuit(quant_reg, class_reg)\n",
    "\n",
    "# Add an X gate with .x()\n",
    "quant_circuit.x(0)\n",
    "\n",
    "# Draw the circuit with matplotlib\n",
    "quant_circuit.draw(output = 'mpl')"
   ]
  },
  {
   "cell_type": "code",
   "execution_count": 4,
   "metadata": {},
   "outputs": [
    {
     "name": "stdout",
     "output_type": "stream",
     "text": [
      "[[0.+0.j 1.+0.j]\n",
      " [1.+0.j 0.+0.j]]\n"
     ]
    }
   ],
   "source": [
    "# Bring in the unitary simulator to get the unitary matrix of the gate\n",
    "unitary_simulator = Aer.get_backend('unitary_simulator')\n",
    "\n",
    "# Execute the circuit with the unitary simulator in order to see and store the results\n",
    "unitary_result = qs.execute(quant_circuit, backend = unitary_simulator).result()\n",
    "\n",
    "# Get the unitary matrix from the results\n",
    "unitary_matrix = unitary_result.get_unitary()\n",
    "\n",
    "# Print the matrix\n",
    "print(unitary_matrix)"
   ]
  },
  {
   "cell_type": "code",
   "execution_count": 5,
   "metadata": {},
   "outputs": [
    {
     "name": "stdout",
     "output_type": "stream",
     "text": [
      "[0.+0.j 1.+0.j]\n"
     ]
    }
   ],
   "source": [
    "# Bring in the state simulator to simulate the quantum circuit for the purpose of checking the quantum state\n",
    "state_simulator = Aer.get_backend('statevector_simulator')\n",
    "\n",
    "# Execute the circuit with the statevector simulator\n",
    "state_result = qs.execute(quant_circuit, backend = state_simulator).result()\n",
    "\n",
    "# Get the statevector from the results\n",
    "state_vector = state_result.get_statevector()\n",
    "\n",
    "# Print the matrix\n",
    "print(state_vector)"
   ]
  },
  {
   "cell_type": "markdown",
   "metadata": {},
   "source": [
    "#### The Hadamard Gate\n",
    "\n",
    "Starting by adding an h gate to a simple quantum circuit with `.h()`"
   ]
  },
  {
   "cell_type": "code",
   "execution_count": 6,
   "metadata": {},
   "outputs": [
    {
     "data": {
      "image/png": "[encoded data removed]",
      "text/plain": [
       "<Figure size 200.977x144.48 with 1 Axes>"
      ]
     },
     "execution_count": 6,
     "metadata": {},
     "output_type": "execute_result"
    }
   ],
   "source": [
    "# Remake the circuit just to be explicit and so I don't have to track many different object names :)\n",
    "quant_reg = qs.QuantumRegister(1)\n",
    "class_reg = qs.ClassicalRegister(1)\n",
    "\n",
    "quant_circuit = qs.QuantumCircuit(quant_reg, class_reg)\n",
    "\n",
    "quant_circuit.h(0)\n",
    "\n",
    "quant_circuit.draw(output = 'mpl')"
   ]
  },
  {
   "cell_type": "code",
   "execution_count": 7,
   "metadata": {},
   "outputs": [
    {
     "name": "stdout",
     "output_type": "stream",
     "text": [
      "[[ 0.70710678+0.00000000e+00j  0.70710678-8.65956056e-17j]\n",
      " [ 0.70710678+0.00000000e+00j -0.70710678+8.65956056e-17j]]\n"
     ]
    }
   ],
   "source": [
    "# The unitary simulator has already been instantiated and can be reused\n",
    "unitary_result = qs.execute(quant_circuit, backend = unitary_simulator).result()\n",
    "\n",
    "unitary_matrix = unitary_result.get_unitary()\n",
    "\n",
    "print(unitary_matrix)"
   ]
  },
  {
   "cell_type": "code",
   "execution_count": 8,
   "metadata": {},
   "outputs": [
    {
     "name": "stdout",
     "output_type": "stream",
     "text": [
      "[0.70710678+0.j 0.70710678+0.j]\n"
     ]
    }
   ],
   "source": [
    "# The statevector simulator has also already been instanstiated and can be reused\n",
    "state_result = qs.execute(quant_circuit, backend = state_simulator).result()\n",
    "\n",
    "state_vector = state_result.get_statevector()\n",
    "\n",
    "print(state_vector)"
   ]
  },
  {
   "cell_type": "markdown",
   "metadata": {},
   "source": [
    "#### The Hadamard and X Gates\n",
    "\n",
    "With a basic understanding of what's happening for each gate individually, add them to the same quantum register and check the matrices"
   ]
  },
  {
   "cell_type": "code",
   "execution_count": 9,
   "metadata": {},
   "outputs": [
    {
     "data": {
      "image/png": "[encoded data removed]",
      "text/plain": [
       "<Figure size 261.032x144.48 with 1 Axes>"
      ]
     },
     "execution_count": 9,
     "metadata": {},
     "output_type": "execute_result"
    }
   ],
   "source": [
    "quant_reg = qs.QuantumRegister(1)\n",
    "class_reg = qs.ClassicalRegister(1)\n",
    "\n",
    "quant_circuit = qs.QuantumCircuit(quant_reg, class_reg)\n",
    "\n",
    "# Adding each gate to the first qubit register\n",
    "quant_circuit.h(0)\n",
    "quant_circuit.x(0)\n",
    "\n",
    "quant_circuit.draw(output = 'mpl')"
   ]
  },
  {
   "cell_type": "code",
   "execution_count": 10,
   "metadata": {},
   "outputs": [
    {
     "name": "stdout",
     "output_type": "stream",
     "text": [
      "[[ 0.70710678+0.00000000e+00j -0.70710678+8.65956056e-17j]\n",
      " [ 0.70710678+0.00000000e+00j  0.70710678-8.65956056e-17j]]\n"
     ]
    }
   ],
   "source": [
    "unitary_result = qs.execute(quant_circuit, backend = unitary_simulator).result()\n",
    "unitary_matrix = unitary_result.get_unitary()\n",
    "print(unitary_matrix)"
   ]
  },
  {
   "cell_type": "code",
   "execution_count": 11,
   "metadata": {},
   "outputs": [
    {
     "name": "stdout",
     "output_type": "stream",
     "text": [
      "[0.70710678+0.j 0.70710678+0.j]\n"
     ]
    }
   ],
   "source": [
    "state_result = qs.execute(quant_circuit, backend = state_simulator).result()\n",
    "state_vector = state_result.get_statevector()\n",
    "print(state_vector)"
   ]
  },
  {
   "cell_type": "markdown",
   "metadata": {},
   "source": [
    "#### The Hadamard and X Gates (part deux)\n",
    "\n",
    "Now that the two gates have been used in the same register, what happens when they're used in the same position of two different registers?"
   ]
  },
  {
   "cell_type": "code",
   "execution_count": 12,
   "metadata": {},
   "outputs": [
    {
     "data": {
      "image/png": "[encoded data removed]",
      "text/plain": [
       "<Figure size 227.084x204.68 with 1 Axes>"
      ]
     },
     "execution_count": 12,
     "metadata": {},
     "output_type": "execute_result"
    }
   ],
   "source": [
    "quant_reg = qs.QuantumRegister(2)\n",
    "class_reg = qs.ClassicalRegister(2)\n",
    "\n",
    "quant_circuit = qs.QuantumCircuit(quant_reg, class_reg)\n",
    "\n",
    "# Add the H gate to the first register and the X gate to the second one\n",
    "quant_circuit.h(quant_reg[0])\n",
    "quant_circuit.x(quant_reg[1])\n",
    "\n",
    "quant_circuit.draw(output = 'mpl')"
   ]
  },
  {
   "cell_type": "code",
   "execution_count": 13,
   "metadata": {},
   "outputs": [
    {
     "name": "stdout",
     "output_type": "stream",
     "text": [
      "[[ 0.        +0.00000000e+00j  0.        +0.00000000e+00j\n",
      "   0.70710678+0.00000000e+00j  0.70710678-8.65956056e-17j]\n",
      " [ 0.        +0.00000000e+00j  0.        +0.00000000e+00j\n",
      "   0.70710678+0.00000000e+00j -0.70710678+8.65956056e-17j]\n",
      " [ 0.70710678+0.00000000e+00j  0.70710678-8.65956056e-17j\n",
      "   0.        +0.00000000e+00j  0.        +0.00000000e+00j]\n",
      " [ 0.70710678+0.00000000e+00j -0.70710678+8.65956056e-17j\n",
      "   0.        +0.00000000e+00j  0.        +0.00000000e+00j]]\n"
     ]
    }
   ],
   "source": [
    "unitary_result = qs.execute(quant_circuit, backend = unitary_simulator).result()\n",
    "unitary_matrix = unitary_result.get_unitary()\n",
    "print(unitary_matrix)"
   ]
  },
  {
   "cell_type": "markdown",
   "metadata": {},
   "source": [
    "This is the tensor product of H and X:"
   ]
  },
  {
   "cell_type": "markdown",
   "metadata": {},
   "source": [
    "![title](img\\hx_tensorprod_unitary.png)"
   ]
  },
  {
   "cell_type": "markdown",
   "metadata": {},
   "source": [
    "In the notebook, the operation has already been performed which is why there are so many .707 decimal values shown"
   ]
  },
  {
   "cell_type": "code",
   "execution_count": 14,
   "metadata": {},
   "outputs": [
    {
     "name": "stdout",
     "output_type": "stream",
     "text": [
      "[0.        +0.j 0.        +0.j 0.70710678+0.j 0.70710678+0.j]\n"
     ]
    }
   ],
   "source": [
    "state_result = qs.execute(quant_circuit, backend = state_simulator).result()\n",
    "state_vector = state_result.get_statevector()\n",
    "print(state_vector)"
   ]
  },
  {
   "cell_type": "markdown",
   "metadata": {},
   "source": [
    "#### The CX (Controlled NOT) Gate\n",
    "\n",
    "Like the X gate there's a NOT operation happening, but what about the Controlled NOT operation from the CX gate?"
   ]
  },
  {
   "cell_type": "code",
   "execution_count": 15,
   "metadata": {},
   "outputs": [
    {
     "data": {
      "image/png": "[encoded data removed]",
      "text/plain": [
       "<Figure size 227.084x204.68 with 1 Axes>"
      ]
     },
     "execution_count": 15,
     "metadata": {},
     "output_type": "execute_result"
    }
   ],
   "source": [
    "quant_reg = qs.QuantumRegister(2)\n",
    "class_reg = qs.ClassicalRegister(2)\n",
    "\n",
    "quant_circuit = qs.QuantumCircuit(quant_reg, class_reg)\n",
    "\n",
    "# Unlike the previous gate, this gate exists in a register and targets another one\n",
    "# Place it in the second register and target the first register\n",
    "quant_circuit.cx(quant_reg[0], quant_reg[1])\n",
    "\n",
    "quant_circuit.draw(output = 'mpl')"
   ]
  },
  {
   "cell_type": "code",
   "execution_count": 16,
   "metadata": {},
   "outputs": [
    {
     "name": "stdout",
     "output_type": "stream",
     "text": [
      "[[1.+0.j 0.+0.j 0.+0.j 0.+0.j]\n",
      " [0.+0.j 0.+0.j 0.+0.j 1.+0.j]\n",
      " [0.+0.j 0.+0.j 1.+0.j 0.+0.j]\n",
      " [0.+0.j 1.+0.j 0.+0.j 0.+0.j]]\n"
     ]
    }
   ],
   "source": [
    "unitary_result = qs.execute(quant_circuit, backend = unitary_simulator).result()\n",
    "unitary_matrix = unitary_result.get_unitary()\n",
    "print(unitary_matrix)"
   ]
  },
  {
   "cell_type": "code",
   "execution_count": 17,
   "metadata": {},
   "outputs": [
    {
     "name": "stdout",
     "output_type": "stream",
     "text": [
      "[1.+0.j 0.+0.j 0.+0.j 0.+0.j]\n"
     ]
    }
   ],
   "source": [
    "state_result = qs.execute(quant_circuit, backend = state_simulator).result()\n",
    "state_vector = state_result.get_statevector()\n",
    "print(state_vector)"
   ]
  },
  {
   "cell_type": "markdown",
   "metadata": {},
   "source": [
    "#### The Hadamard and CX Gates\n",
    "\n",
    "Knowing how Each of the gates work mathematically, what happens when the H gate and CX gate are used together?"
   ]
  },
  {
   "cell_type": "code",
   "execution_count": 18,
   "metadata": {},
   "outputs": [
    {
     "data": {
      "image/png": "[encoded data removed]",
      "text/plain": [
       "<Figure size 287.429x204.68 with 1 Axes>"
      ]
     },
     "execution_count": 18,
     "metadata": {},
     "output_type": "execute_result"
    }
   ],
   "source": [
    "quant_reg = qs.QuantumRegister(2)\n",
    "class_reg = qs.ClassicalRegister(2)\n",
    "\n",
    "quant_circuit = qs.QuantumCircuit(quant_reg, class_reg)\n",
    "\n",
    "quant_circuit.h(quant_reg[0])\n",
    "quant_circuit.cx(quant_reg[0], quant_reg[1])\n",
    "\n",
    "quant_circuit.draw(output = 'mpl')"
   ]
  },
  {
   "cell_type": "code",
   "execution_count": 19,
   "metadata": {},
   "outputs": [
    {
     "name": "stdout",
     "output_type": "stream",
     "text": [
      "[[ 0.70710678+0.00000000e+00j  0.70710678-8.65956056e-17j\n",
      "   0.        +0.00000000e+00j  0.        +0.00000000e+00j]\n",
      " [ 0.        +0.00000000e+00j  0.        +0.00000000e+00j\n",
      "   0.70710678+0.00000000e+00j -0.70710678+8.65956056e-17j]\n",
      " [ 0.        +0.00000000e+00j  0.        +0.00000000e+00j\n",
      "   0.70710678+0.00000000e+00j  0.70710678-8.65956056e-17j]\n",
      " [ 0.70710678+0.00000000e+00j -0.70710678+8.65956056e-17j\n",
      "   0.        +0.00000000e+00j  0.        +0.00000000e+00j]]\n"
     ]
    }
   ],
   "source": [
    "unitary_result = qs.execute(quant_circuit, backend = unitary_simulator).result()\n",
    "unitary_matrix = unitary_result.get_unitary()\n",
    "print(unitary_matrix)"
   ]
  },
  {
   "cell_type": "markdown",
   "metadata": {},
   "source": [
    "So With these two gates connected together, the below is created as a tensor product of the two.\n",
    "\n",
    "On the left is the unitary matrix of each gate, and on the right is there tensor product.  It's worth noting that Qiskit is automatically performing the final calculations.  The .707 is usually notated as 1/sqrt(2)."
   ]
  },
  {
   "cell_type": "markdown",
   "metadata": {},
   "source": [
    "![title](img\\hcx_unitary_compare.png)"
   ]
  },
  {
   "cell_type": "code",
   "execution_count": 20,
   "metadata": {},
   "outputs": [
    {
     "name": "stdout",
     "output_type": "stream",
     "text": [
      "[0.70710678+0.j 0.        +0.j 0.        +0.j 0.70710678+0.j]\n"
     ]
    }
   ],
   "source": [
    "state_result = qs.execute(quant_circuit, backend = state_simulator).result()\n",
    "state_vector = state_result.get_statevector()\n",
    "print(state_vector)"
   ]
  },
  {
   "cell_type": "markdown",
   "metadata": {},
   "source": [
    "Similar to the above, this is the simulated quantum state of the two. "
   ]
  },
  {
   "cell_type": "markdown",
   "metadata": {},
   "source": [
    "![title](img\\hcx_state_compare.png)"
   ]
  },
  {
   "cell_type": "markdown",
   "metadata": {},
   "source": [
    "This is mostly interesting because these two qubits are now entangled.  This creates a Bell state.\n",
    "\n",
    "Notice that the second register doesn't have an H gate but now has a similar matrix of values.  `[1/sqrt(2), 0] and [0, 1/sqrt(2)]`"
   ]
  },
  {
   "cell_type": "code",
   "execution_count": 21,
   "metadata": {},
   "outputs": [
    {
     "data": {
      "image/png": "[encoded data removed]",
      "text/plain": [
       "<Figure size 407.829x204.68 with 1 Axes>"
      ]
     },
     "execution_count": 21,
     "metadata": {},
     "output_type": "execute_result"
    }
   ],
   "source": [
    "# Add measures on both qubit registers and point them to the classical registers (remember they have to decohere to measure)\n",
    "# Point the measures from qubit registers [0,1] respectively to classical registers [0.1] respectively\n",
    "quant_circuit.measure(quant_reg, class_reg)\n",
    "\n",
    "quant_circuit.draw(output = 'mpl')"
   ]
  },
  {
   "cell_type": "markdown",
   "metadata": {},
   "source": [
    "Now that the measures have been added, set up the Qasm simulator to execute the circuit on a simulated quantum device."
   ]
  },
  {
   "cell_type": "code",
   "execution_count": 22,
   "metadata": {},
   "outputs": [
    {
     "data": {
      "text/plain": [
       "{'00': 535, '11': 489}"
      ]
     },
     "execution_count": 22,
     "metadata": {},
     "output_type": "execute_result"
    }
   ],
   "source": [
    "# Instantiate the simulator to run the circuit\n",
    "# Qasm is quantum assembly language\n",
    "qasm_sim = qs.Aer.get_backend('qasm_simulator')\n",
    "\n",
    "# Execute the circuit using the qasm simulator above\n",
    "# Store the results\n",
    "quant_circuit_results = qs.execute(quant_circuit, backend = qasm_sim).result()\n",
    "\n",
    "# Check the counts from the simulation of the circuit\n",
    "quant_circuit_results.get_counts()"
   ]
  },
  {
   "cell_type": "markdown",
   "metadata": {},
   "source": [
    "So, what's going on here is these two values show up only because of the tensor product above (the one from both gates)\n",
    "\n",
    "If all possible values are an array like: `[00, 01, 10, 11]` then it makes sense that only two are shown.  The tensor product from the state simulator shows `[1/sqrt(2), 0, 0, 1/sqrt(2)]`\n",
    "\n",
    "Quantum computing is probabilistic, so if there is zero probability of a value occuring at decoherence, then it won't show up in the results of the simulator.\n",
    "\n",
    "A real quantum device would have quamtum errors and noise from interference, so there would be small occurrences of the values 01 and 10."
   ]
  },
  {
   "cell_type": "code",
   "execution_count": 23,
   "metadata": {},
   "outputs": [
    {
     "data": {
      "image/png": "[encoded data removed]",
      "text/plain": [
       "<Figure size 504x360 with 1 Axes>"
      ]
     },
     "execution_count": 23,
     "metadata": {},
     "output_type": "execute_result"
    }
   ],
   "source": [
    "plot_histogram(quant_circuit_results.get_counts())"
   ]
  },
  {
   "cell_type": "markdown",
   "metadata": {},
   "source": [
    "So the histogram shows here that in the simulation the values are about 50/50.  This means that the exact same circuit (for sufficiently large numbers of operations) produces a 00 or 11 50% of the time when it is measured.\n",
    "\n",
    "But what about all of the other possible values here?  What about showing each register?  A histogram will not show them, so maybe another visual makes it a little more clear (and maybe cooler)."
   ]
  },
  {
   "cell_type": "code",
   "execution_count": 24,
   "metadata": {},
   "outputs": [
    {
     "name": "stdout",
     "output_type": "stream",
     "text": [
      "DensityMatrix([[0.5+0.j, 0. +0.j, 0. +0.j, 0.5+0.j],\n",
      "               [0. +0.j, 0. +0.j, 0. +0.j, 0. +0.j],\n",
      "               [0. +0.j, 0. +0.j, 0. +0.j, 0. +0.j],\n",
      "               [0.5+0.j, 0. +0.j, 0. +0.j, 0.5+0.j]],\n",
      "              dims=(2, 2))\n"
     ]
    }
   ],
   "source": [
    "# Remaking the quantum circuit above without the measures because they cause a bunch of errors\n",
    "# Measures are only used to measuring anyway and aren't needed to check the simulated quantum state\n",
    "quant_reg = qs.QuantumRegister(2)\n",
    "\n",
    "quant_circuit = qs.QuantumCircuit(quant_reg)\n",
    "\n",
    "quant_circuit.h(quant_reg[0])\n",
    "quant_circuit.cx(quant_reg[0], quant_reg[1])\n",
    "\n",
    "# Get the density matrix of the quantum circuit's simulated quantum state\n",
    "quant_circuit_density_matrix = DensityMatrix.from_instruction(quant_circuit)\n",
    "\n",
    "# Print the density matrix that was just derived from the circuit\n",
    "print(quant_circuit_density_matrix)"
   ]
  },
  {
   "cell_type": "code",
   "execution_count": 25,
   "metadata": {},
   "outputs": [
    {
     "data": {
      "image/png": "[encoded data removed]",
      "text/plain": [
       "<Figure size 1080x360 with 2 Axes>"
      ]
     },
     "execution_count": 25,
     "metadata": {},
     "output_type": "execute_result"
    }
   ],
   "source": [
    "# Plot the state cityscape of the quantum state\n",
    "plot_state_city(quant_circuit_density_matrix, title=\"State City Scape of the H CX Circuit\")"
   ]
  }
 ],
 "metadata": {
  "kernelspec": {
   "display_name": "Python 3",
   "language": "python",
   "name": "python3"
  },
  "language_info": {
   "codemirror_mode": {
    "name": "ipython",
    "version": 3
   },
   "file_extension": ".py",
   "mimetype": "text/x-python",
   "name": "python",
   "nbconvert_exporter": "python",
   "pygments_lexer": "ipython3",
   "version": "3.8.5"
  }
 },
 "nbformat": 4,
 "nbformat_minor": 4
}
