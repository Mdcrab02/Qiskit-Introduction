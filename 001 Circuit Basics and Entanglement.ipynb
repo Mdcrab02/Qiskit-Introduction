{
 "cells": [
  {
   "cell_type": "markdown",
   "metadata": {},
   "source": [
    "### Circuit Basics and Entanglement Practice\n",
    "\n",
    "This notebook is to take a closer look at some of the linear algebra happening under the hood of the gates and see, mathematically, how entanglement is created and simulated."
   ]
  },
  {
   "cell_type": "code",
   "execution_count": 1,
   "metadata": {},
   "outputs": [],
   "source": [
    "# Import the needed packages and modules\n",
    "import qiskit as qs\n",
    "from math import pi\n",
    "\n",
    "from qiskit import Aer\n",
    "\n",
    "# Setting to make sure that visuals show up in the notebook while I'm working\n",
    "%matplotlib inline"
   ]
  },
  {
   "cell_type": "code",
   "execution_count": 2,
   "metadata": {},
   "outputs": [
    {
     "data": {
      "text/plain": [
       "{'qiskit-terra': '0.15.1',\n",
       " 'qiskit-aer': '0.6.1',\n",
       " 'qiskit-ignis': '0.4.0',\n",
       " 'qiskit-ibmq-provider': '0.8.0',\n",
       " 'qiskit-aqua': '0.7.5',\n",
       " 'qiskit': '0.20.0'}"
      ]
     },
     "execution_count": 2,
     "metadata": {},
     "output_type": "execute_result"
    }
   ],
   "source": [
    "qs.__qiskit_version__"
   ]
  },
  {
   "cell_type": "markdown",
   "metadata": {},
   "source": [
    "Checking the unitary simulator - the matrix form of the gate\n",
    "\n",
    "Checking the statevector simulator - the representation of the quantum state"
   ]
  },
  {
   "cell_type": "code",
   "execution_count": 3,
   "metadata": {},
   "outputs": [
    {
     "data": {
      "image/png": "[encoded data removed]",
      "text/plain": [
       "<Figure size 200.687x144.48 with 1 Axes>"
      ]
     },
     "execution_count": 3,
     "metadata": {},
     "output_type": "execute_result"
    }
   ],
   "source": [
    "quant_reg = qs.QuantumRegister(1)\n",
    "class_reg = qs.ClassicalRegister(1)\n",
    "\n",
    "quant_circuit = qs.QuantumCircuit(quant_reg, class_reg)\n",
    "\n",
    "quant_circuit.x(0)\n",
    "\n",
    "quant_circuit.draw(output = 'mpl')"
   ]
  },
  {
   "cell_type": "code",
   "execution_count": 4,
   "metadata": {},
   "outputs": [
    {
     "name": "stdout",
     "output_type": "stream",
     "text": [
      "[[0.+0.j 1.+0.j]\n",
      " [1.+0.j 0.+0.j]]\n"
     ]
    }
   ],
   "source": [
    "unitary_simulator = Aer.get_backend('unitary_simulator')\n",
    "unitary_result = qs.execute(quant_circuit, backend = unitary_simulator).result()\n",
    "unitary_matrix = unitary_result.get_unitary()\n",
    "print(unitary_matrix)"
   ]
  },
  {
   "cell_type": "code",
   "execution_count": 5,
   "metadata": {},
   "outputs": [
    {
     "name": "stdout",
     "output_type": "stream",
     "text": [
      "[0.+0.j 1.+0.j]\n"
     ]
    }
   ],
   "source": [
    "state_simulator = Aer.get_backend('statevector_simulator')\n",
    "state_result = qs.execute(quant_circuit, backend = state_simulator).result()\n",
    "state_vector = state_result.get_statevector()\n",
    "print(state_vector)"
   ]
  },
  {
   "cell_type": "markdown",
   "metadata": {},
   "source": []
  },
  {
   "cell_type": "code",
   "execution_count": 6,
   "metadata": {},
   "outputs": [
    {
     "data": {
      "image/png": "[encoded data removed]",
      "text/plain": [
       "<Figure size 200.977x144.48 with 1 Axes>"
      ]
     },
     "execution_count": 6,
     "metadata": {},
     "output_type": "execute_result"
    }
   ],
   "source": [
    "quant_reg = qs.QuantumRegister(1)\n",
    "class_reg = qs.ClassicalRegister(1)\n",
    "\n",
    "quant_circuit = qs.QuantumCircuit(quant_reg, class_reg)\n",
    "\n",
    "quant_circuit.h(0)\n",
    "\n",
    "quant_circuit.draw(output = 'mpl')"
   ]
  },
  {
   "cell_type": "code",
   "execution_count": 7,
   "metadata": {},
   "outputs": [
    {
     "name": "stdout",
     "output_type": "stream",
     "text": [
      "[[ 0.70710678+0.00000000e+00j  0.70710678-8.65956056e-17j]\n",
      " [ 0.70710678+0.00000000e+00j -0.70710678+8.65956056e-17j]]\n"
     ]
    }
   ],
   "source": [
    "unitary_simulator = Aer.get_backend('unitary_simulator')\n",
    "unitary_result = qs.execute(quant_circuit, backend = unitary_simulator).result()\n",
    "unitary_matrix = unitary_result.get_unitary()\n",
    "print(unitary_matrix)"
   ]
  },
  {
   "cell_type": "code",
   "execution_count": 8,
   "metadata": {},
   "outputs": [
    {
     "name": "stdout",
     "output_type": "stream",
     "text": [
      "[0.70710678+0.j 0.70710678+0.j]\n"
     ]
    }
   ],
   "source": [
    "state_simulator = Aer.get_backend('statevector_simulator')\n",
    "state_result = qs.execute(quant_circuit, backend = state_simulator).result()\n",
    "state_vector = state_result.get_statevector()\n",
    "print(state_vector)"
   ]
  },
  {
   "cell_type": "markdown",
   "metadata": {},
   "source": []
  },
  {
   "cell_type": "code",
   "execution_count": 9,
   "metadata": {},
   "outputs": [
    {
     "data": {
      "image/png": "[encoded data removed]",
      "text/plain": [
       "<Figure size 261.032x144.48 with 1 Axes>"
      ]
     },
     "execution_count": 9,
     "metadata": {},
     "output_type": "execute_result"
    }
   ],
   "source": [
    "# Make a new circuit\n",
    "quant_reg = qs.QuantumRegister(1)\n",
    "class_reg = qs.ClassicalRegister(1)\n",
    "\n",
    "quant_circuit = qs.QuantumCircuit(quant_reg, class_reg)\n",
    "\n",
    "quant_circuit.h(0)\n",
    "quant_circuit.x(0)\n",
    "\n",
    "quant_circuit.draw(output = 'mpl')"
   ]
  },
  {
   "cell_type": "code",
   "execution_count": 10,
   "metadata": {},
   "outputs": [
    {
     "name": "stdout",
     "output_type": "stream",
     "text": [
      "[[ 0.70710678+0.00000000e+00j -0.70710678+8.65956056e-17j]\n",
      " [ 0.70710678+0.00000000e+00j  0.70710678-8.65956056e-17j]]\n"
     ]
    }
   ],
   "source": [
    "unitary_simulator = Aer.get_backend('unitary_simulator')\n",
    "unitary_result = qs.execute(quant_circuit, backend = unitary_simulator).result()\n",
    "unitary_matrix = unitary_result.get_unitary()\n",
    "print(unitary_matrix)"
   ]
  },
  {
   "cell_type": "code",
   "execution_count": 11,
   "metadata": {},
   "outputs": [
    {
     "name": "stdout",
     "output_type": "stream",
     "text": [
      "[0.70710678+0.j 0.70710678+0.j]\n"
     ]
    }
   ],
   "source": [
    "state_simulator = Aer.get_backend('statevector_simulator')\n",
    "state_result = qs.execute(quant_circuit, backend = state_simulator).result()\n",
    "state_vector = state_result.get_statevector()\n",
    "print(state_vector)"
   ]
  },
  {
   "cell_type": "markdown",
   "metadata": {},
   "source": []
  },
  {
   "cell_type": "code",
   "execution_count": 12,
   "metadata": {},
   "outputs": [
    {
     "data": {
      "image/png": "[encoded data removed]",
      "text/plain": [
       "<Figure size 227.084x204.68 with 1 Axes>"
      ]
     },
     "execution_count": 12,
     "metadata": {},
     "output_type": "execute_result"
    }
   ],
   "source": [
    "# Make a new circuit\n",
    "quant_reg = qs.QuantumRegister(2)\n",
    "class_reg = qs.ClassicalRegister(2)\n",
    "\n",
    "quant_circuit = qs.QuantumCircuit(quant_reg, class_reg)\n",
    "#quant_circuit = qs.QuantumCircuit(quant_reg)\n",
    "\n",
    "quant_circuit.h(quant_reg[0])\n",
    "quant_circuit.x(quant_reg[1])\n",
    "\n",
    "quant_circuit.draw(output = 'mpl')"
   ]
  },
  {
   "cell_type": "code",
   "execution_count": 13,
   "metadata": {},
   "outputs": [
    {
     "name": "stdout",
     "output_type": "stream",
     "text": [
      "[[ 0.        +0.00000000e+00j  0.        +0.00000000e+00j\n",
      "   0.70710678+0.00000000e+00j  0.70710678-8.65956056e-17j]\n",
      " [ 0.        +0.00000000e+00j  0.        +0.00000000e+00j\n",
      "   0.70710678+0.00000000e+00j -0.70710678+8.65956056e-17j]\n",
      " [ 0.70710678+0.00000000e+00j  0.70710678-8.65956056e-17j\n",
      "   0.        +0.00000000e+00j  0.        +0.00000000e+00j]\n",
      " [ 0.70710678+0.00000000e+00j -0.70710678+8.65956056e-17j\n",
      "   0.        +0.00000000e+00j  0.        +0.00000000e+00j]]\n"
     ]
    }
   ],
   "source": [
    "unitary_simulator = Aer.get_backend('unitary_simulator')\n",
    "unitary_result = qs.execute(quant_circuit, backend = unitary_simulator).result()\n",
    "unitary_matrix = unitary_result.get_unitary()\n",
    "print(unitary_matrix)"
   ]
  },
  {
   "cell_type": "markdown",
   "metadata": {},
   "source": [
    "This is the tensor product of H and X:"
   ]
  },
  {
   "cell_type": "markdown",
   "metadata": {},
   "source": [
    "![title](img\\hx_tensorprod_unitary.png)"
   ]
  },
  {
   "cell_type": "markdown",
   "metadata": {},
   "source": [
    "In the notebook, the operation has already been performed which is why there are so many .707 decimal values shown"
   ]
  },
  {
   "cell_type": "code",
   "execution_count": 14,
   "metadata": {},
   "outputs": [
    {
     "name": "stdout",
     "output_type": "stream",
     "text": [
      "[0.        +0.j 0.        +0.j 0.70710678+0.j 0.70710678+0.j]\n"
     ]
    }
   ],
   "source": [
    "state_simulator = Aer.get_backend('statevector_simulator')\n",
    "state_result = qs.execute(quant_circuit, backend = state_simulator).result()\n",
    "state_vector = state_result.get_statevector()\n",
    "print(state_vector)"
   ]
  },
  {
   "cell_type": "markdown",
   "metadata": {},
   "source": [
    "But what about the two gate one from the previous example?"
   ]
  },
  {
   "cell_type": "code",
   "execution_count": 15,
   "metadata": {},
   "outputs": [
    {
     "data": {
      "image/png": "[encoded data removed]",
      "text/plain": [
       "<Figure size 227.084x204.68 with 1 Axes>"
      ]
     },
     "execution_count": 15,
     "metadata": {},
     "output_type": "execute_result"
    }
   ],
   "source": [
    "# Make a new circuit\n",
    "quant_reg = qs.QuantumRegister(2)\n",
    "class_reg = qs.ClassicalRegister(2)\n",
    "\n",
    "quant_circuit = qs.QuantumCircuit(quant_reg, class_reg)\n",
    "\n",
    "#quant_circuit.h(quant_reg[0])\n",
    "quant_circuit.cx(quant_reg[0], quant_reg[1])\n",
    "\n",
    "quant_circuit.draw(output = 'mpl')"
   ]
  },
  {
   "cell_type": "code",
   "execution_count": 16,
   "metadata": {},
   "outputs": [
    {
     "name": "stdout",
     "output_type": "stream",
     "text": [
      "[[1.+0.j 0.+0.j 0.+0.j 0.+0.j]\n",
      " [0.+0.j 0.+0.j 0.+0.j 1.+0.j]\n",
      " [0.+0.j 0.+0.j 1.+0.j 0.+0.j]\n",
      " [0.+0.j 1.+0.j 0.+0.j 0.+0.j]]\n"
     ]
    }
   ],
   "source": [
    "unitary_simulator = Aer.get_backend('unitary_simulator')\n",
    "unitary_result = qs.execute(quant_circuit, backend = unitary_simulator).result()\n",
    "unitary_matrix = unitary_result.get_unitary()\n",
    "print(unitary_matrix)"
   ]
  },
  {
   "cell_type": "code",
   "execution_count": 17,
   "metadata": {},
   "outputs": [
    {
     "name": "stdout",
     "output_type": "stream",
     "text": [
      "[1.+0.j 0.+0.j 0.+0.j 0.+0.j]\n"
     ]
    }
   ],
   "source": [
    "state_simulator = Aer.get_backend('statevector_simulator')\n",
    "state_result = qs.execute(quant_circuit, backend = state_simulator).result()\n",
    "state_vector = state_result.get_statevector()\n",
    "print(state_vector)"
   ]
  },
  {
   "cell_type": "markdown",
   "metadata": {},
   "source": []
  },
  {
   "cell_type": "code",
   "execution_count": 18,
   "metadata": {},
   "outputs": [
    {
     "data": {
      "image/png": "[encoded data removed]",
      "text/plain": [
       "<Figure size 287.429x204.68 with 1 Axes>"
      ]
     },
     "execution_count": 18,
     "metadata": {},
     "output_type": "execute_result"
    }
   ],
   "source": [
    "# Make a new circuit\n",
    "quant_reg = qs.QuantumRegister(2)\n",
    "class_reg = qs.ClassicalRegister(2)\n",
    "\n",
    "quant_circuit = qs.QuantumCircuit(quant_reg, class_reg)\n",
    "\n",
    "quant_circuit.h(quant_reg[0])\n",
    "quant_circuit.cx(quant_reg[0], quant_reg[1])\n",
    "\n",
    "quant_circuit.draw(output = 'mpl')"
   ]
  },
  {
   "cell_type": "code",
   "execution_count": 19,
   "metadata": {},
   "outputs": [
    {
     "name": "stdout",
     "output_type": "stream",
     "text": [
      "[[ 0.70710678+0.00000000e+00j  0.70710678-8.65956056e-17j\n",
      "   0.        +0.00000000e+00j  0.        +0.00000000e+00j]\n",
      " [ 0.        +0.00000000e+00j  0.        +0.00000000e+00j\n",
      "   0.70710678+0.00000000e+00j -0.70710678+8.65956056e-17j]\n",
      " [ 0.        +0.00000000e+00j  0.        +0.00000000e+00j\n",
      "   0.70710678+0.00000000e+00j  0.70710678-8.65956056e-17j]\n",
      " [ 0.70710678+0.00000000e+00j -0.70710678+8.65956056e-17j\n",
      "   0.        +0.00000000e+00j  0.        +0.00000000e+00j]]\n"
     ]
    }
   ],
   "source": [
    "unitary_simulator = Aer.get_backend('unitary_simulator')\n",
    "unitary_result = qs.execute(quant_circuit, backend = unitary_simulator).result()\n",
    "unitary_matrix = unitary_result.get_unitary()\n",
    "print(unitary_matrix)"
   ]
  },
  {
   "cell_type": "markdown",
   "metadata": {},
   "source": [
    "![title](img\\hcx_unitary_compare.png)"
   ]
  },
  {
   "cell_type": "code",
   "execution_count": 20,
   "metadata": {},
   "outputs": [
    {
     "name": "stdout",
     "output_type": "stream",
     "text": [
      "[0.70710678+0.j 0.        +0.j 0.        +0.j 0.70710678+0.j]\n"
     ]
    }
   ],
   "source": [
    "state_simulator = Aer.get_backend('statevector_simulator')\n",
    "state_result = qs.execute(quant_circuit, backend = state_simulator).result()\n",
    "state_vector = state_result.get_statevector()\n",
    "print(state_vector)"
   ]
  },
  {
   "cell_type": "markdown",
   "metadata": {},
   "source": [
    "![title](img\\hcx_state_compare.png)"
   ]
  },
  {
   "cell_type": "markdown",
   "metadata": {},
   "source": [
    "Keep in mind that these have been computed and that 0.707 is 1/sqrt(2)\n",
    "\n",
    "This shows that they are entangled and in what's known as a bell state"
   ]
  },
  {
   "cell_type": "code",
   "execution_count": null,
   "metadata": {},
   "outputs": [],
   "source": []
  },
  {
   "cell_type": "code",
   "execution_count": null,
   "metadata": {},
   "outputs": [],
   "source": []
  },
  {
   "cell_type": "code",
   "execution_count": null,
   "metadata": {},
   "outputs": [],
   "source": []
  },
  {
   "cell_type": "code",
   "execution_count": null,
   "metadata": {},
   "outputs": [],
   "source": []
  },
  {
   "cell_type": "code",
   "execution_count": null,
   "metadata": {},
   "outputs": [],
   "source": []
  },
  {
   "cell_type": "code",
   "execution_count": null,
   "metadata": {},
   "outputs": [],
   "source": []
  },
  {
   "cell_type": "code",
   "execution_count": null,
   "metadata": {},
   "outputs": [],
   "source": []
  },
  {
   "cell_type": "code",
   "execution_count": null,
   "metadata": {},
   "outputs": [],
   "source": []
  }
 ],
 "metadata": {
  "kernelspec": {
   "display_name": "Python 3",
   "language": "python",
   "name": "python3"
  },
  "language_info": {
   "codemirror_mode": {
    "name": "ipython",
    "version": 3
   },
   "file_extension": ".py",
   "mimetype": "text/x-python",
   "name": "python",
   "nbconvert_exporter": "python",
   "pygments_lexer": "ipython3",
   "version": "3.8.5"
  }
 },
 "nbformat": 4,
 "nbformat_minor": 4
}
